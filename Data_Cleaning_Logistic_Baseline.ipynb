{
 "cells": [
  {
   "cell_type": "code",
   "execution_count": 1,
   "id": "c4dc69de",
   "metadata": {},
   "outputs": [],
   "source": [
    "import pandas as pd\n",
    "import numpy as np\n",
    "import matplotlib.pyplot as plt\n",
    "import seaborn as sns\n",
    "%matplotlib inline"
   ]
  },
  {
   "cell_type": "markdown",
   "id": "f164aba2",
   "metadata": {},
   "source": [
    "# Reading in data and preliminary cleaning"
   ]
  },
  {
   "cell_type": "code",
   "execution_count": 2,
   "id": "f93e9b94",
   "metadata": {},
   "outputs": [],
   "source": [
    "meta = pd.read_csv('/Users/evelynjohnson/Desktop/METIS/Classification/project/Energy_Water_NYC_Buildings.csv', low_memory=False)"
   ]
  },
  {
   "cell_type": "code",
   "execution_count": 3,
   "id": "44749e17",
   "metadata": {},
   "outputs": [],
   "source": [
    "meta.head();"
   ]
  },
  {
   "cell_type": "code",
   "execution_count": 4,
   "id": "9c240c5a",
   "metadata": {},
   "outputs": [],
   "source": [
    "df = meta.copy()"
   ]
  },
  {
   "cell_type": "code",
   "execution_count": 5,
   "id": "27786b4f",
   "metadata": {},
   "outputs": [
    {
     "data": {
      "text/plain": [
       "(28067, 250)"
      ]
     },
     "execution_count": 5,
     "metadata": {},
     "output_type": "execute_result"
    }
   ],
   "source": [
    "df.shape"
   ]
  },
  {
   "cell_type": "code",
   "execution_count": 6,
   "id": "7211f1df",
   "metadata": {},
   "outputs": [],
   "source": [
    "df.drop(df[df['Primary Property Type - Portfolio Manager-Calculated'] != 'Multifamily Housing'].index, inplace = True)"
   ]
  },
  {
   "cell_type": "code",
   "execution_count": 7,
   "id": "a8cd0d5a",
   "metadata": {
    "scrolled": true
   },
   "outputs": [
    {
     "data": {
      "text/plain": [
       "(18751, 250)"
      ]
     },
     "execution_count": 7,
     "metadata": {},
     "output_type": "execute_result"
    }
   ],
   "source": [
    "df.shape"
   ]
  },
  {
   "cell_type": "code",
   "execution_count": 8,
   "id": "1eec3b17",
   "metadata": {},
   "outputs": [],
   "source": [
    "columns = df.columns.values.tolist()\n",
    "columns;"
   ]
  },
  {
   "cell_type": "code",
   "execution_count": 9,
   "id": "4d1f2c52",
   "metadata": {},
   "outputs": [],
   "source": [
    "columns_to_drop = ['Property Id', 'NYC Borough, Block and Lot (BBL)','Parent Property Id','Parent Property Name', 'Year Ending',\n",
    "                   'NYC Building Identification Number (BIN)', 'City', 'Primary Property Type - Self Selected',\n",
    "                   'Primary Property Type - Portfolio Manager-Calculated', 'National Median Reference Property Type',\n",
    "                  'List of All Property Use Types at Property', 'Number of Buildings', 'ENERGY STAR Score', \n",
    "                   'National Median ENERGY STAR Score', 'Target ENERGY STAR Score', 'Reason(s) for No Score','ENERGY STAR Certification - Year(s) Certified (Score)',\n",
    "                   'ENERGY STAR Certification - Last Approval Date','Site EUI (kBtu/ft²)', \n",
    "                   'National Median Site EUI (kBtu/ft²)',  'Site Energy Use (kBtu)',  'Source EUI (kBtu/ft²)',  \n",
    "                   'National Median Source EUI (kBtu/ft²)', 'Source Energy Use (kBtu)', 'Natural Gas Use (therms)', \n",
    "                   'Electricity Use - Grid Purchase (kBtu)', 'Electricity Use - Grid Purchase (kWh)', \n",
    "                   'Adult Education - Gross Floor Area (ft²)', 'Ambulatory Surgical Center - Gross Floor Area (ft²)', \n",
    "                   'Automobile Dealership - Gross Floor Area (ft²)', 'Bank Branch - Gross Floor Area (ft²)', \n",
    "                   'Barracks- Gross Floor Area (ft²)', 'College/University - Gross Floor Area (ft²)', \n",
    "                   'Convention Center - Gross Floor Area (ft²)', 'Courthouse - Gross Floor Area (ft²)', \n",
    "                   'Data Center - Gross Floor Area (ft²)', 'Data Center - UPS System Redundancy', \n",
    "                   'Data Center - Cooling Equipment Redundancy', 'Data Center - IT Energy Configuration', \n",
    "                   'Data Center - Energy Estimates Applied', 'Data Center - UPS Output Meter (kWh)', \n",
    "                   'Data Center - PDU Input Meter (kWh)', 'Data Center - PDU Output Meter (kWh)', \n",
    "                   'Data Center - IT Equipment Input Meter (kWh)', 'Data Center - IT Site Energy (kWh)', \n",
    "                   'Data Center - IT Source Energy (kBtu)', 'Data Center - PUE', 'Data Center - National Median PUE', \n",
    "                   'Distribution Center - Gross Floor Area (ft²)', 'Enclosed Mall - Gross Floor Area (ft²)', \n",
    "                   'Energy/Power Station - Gross Floor Area (ft²)', 'Financial Office - Gross Floor Area (ft²)', \n",
    "                   'Financial Office - Number of Computers', 'Financial Office - Weekly Operating Hours', \n",
    "                   'Financial Office - Number of Workers on Main Shift', \n",
    "                   'Fitness Center/Health Club/Gym - Gross Floor Area (ft²)', 'Food Sales - Gross Floor Area (ft²)', \n",
    "                   'Food Service - Gross Floor Area (ft²)', \n",
    "                   'Hospital (General Medical & Surgical)- Full Time Equivalent (FTE) Workers', \n",
    "                   'Hospital (General Medical & Surgical) - Gross Floor Area (ft²)', \n",
    "                   'Hospital (General Medical & Surgical) - Laboratory', \n",
    "                   'Hospital (General Medical & Surgical) - Licensed Bed Capacity', \n",
    "                   'Hospital (General Medical & Surgical) - Number of MRI Machines', \n",
    "                   'Hospital (General Medical & Surgical) - MRI Density (Number per 1,000 sq ft)', \n",
    "                   'Hospital (General Medical & Surgical) - Number of Staffed Beds', \n",
    "                   'Hospital (General Medical & Surgical) - Staffed Bed Density (Number per 1,000 sq ft)', \n",
    "                   'Hospital (General Medical & Surgical) - Number of Workers on Main Shift', \n",
    "                   'Hospital (General Medical & Surgical) - Number of Workers on Main Shift Density (Number per 1,000 sq ft)', \n",
    "                   'Hospital (General Medical & Surgical) - Percent That Can Be Cooled', \n",
    "                   'Hospital (General Medical & Surgical) - Percent That Can Be Heated', \n",
    "                   'Medical Office - Gross Floor Area (ft²)', 'Medical Office - Number of Computers', \n",
    "                   'Medical Office - Number of MRI Machines', 'Medical Office - Number of Workers on Main Shift', \n",
    "                   'Medical Office - Percent That Can Be Cooled', 'Medical Office - Percent That Can Be Heated', \n",
    "                   'Medical Office - Weekly Operating Hours', \n",
    "                   'Outpatient Rehabilitation/Physical Therapy - Gross Floor Area (ft²)', \n",
    "                   'Urgent Care/Clinic/Other Outpatient - Gross Floor Area (ft²)', 'Hotel - Gross Floor Area (ft²)', \n",
    "                   'Hotel - Gym/fitness  Center Floor Area (ft²)', 'K-12 School - Gross Floor Area (ft²)', \n",
    "                   'Pre-school/Daycare - Gross Floor Area (ft²)', 'Laboratory - Gross Floor Area (ft²)', \n",
    "                   'Mailing Center/Post Office - Gross Floor Area (ft²)', 'Movie Theater - Gross Floor Area (ft²)', \n",
    "                   'Manufacturing/Industrial Plant - Gross Floor Area (ft²)', \n",
    "                   'Residence Hall/Dormitory - Gross Floor Area (ft²)', \n",
    "                   'Non-Refrigerated Warehouse - Gross Floor Area (ft²)', 'Office - Gross Floor Area (ft²)', \n",
    "                   'Office - Number of Computers', 'Office - Number of Workers on Main Shift', \n",
    "                   'Office - Percent That Can Be Cooled', 'Office - Percent That Can Be Heated', \n",
    "                   'Office - Weekly Operating Hours', 'Office - Worker Density (Number per 1,000 sq ft)', \n",
    "                   'Other - Gross Floor Area (ft²)', 'Museum - Gross Floor Area (ft²)', \n",
    "                   'Performing Arts - Gross Floor Area (ft²)', 'Refrigerated Warehouse - Gross Floor Area (ft²)', \n",
    "                   'Restaurant - Gross Floor Area (ft²)', 'Restaurant - Weekly Operating Hours', \n",
    "                   'Restaurant - Worker Density (Number per 1,000 sq ft)', 'Retail Store - Gross Floor Area (ft²)', \n",
    "                   'Retail Store - Number of Walk-in Refrigeration/Freezer Units', \n",
    "                   'Retail Store - Number of Open or Closed Refrigeration/Freezer Units', \n",
    "                   'Self-Storage Facility - Gross Floor Area (ft²)', \n",
    "                   'Senior Living Community - Gross Floor Area (ft²)', \n",
    "                   'Senior Living Community - Living Unit Density (Number per 1,000 sq ft)', \n",
    "                   'Social/Meeting Hall - Gross Floor Area (ft²)', 'Supermarket/Grocery - Gross Floor Area (ft²)', \n",
    "                   'Supermarket/Grocery - Number of Open or Closed Refrigeration/Freezer Units', \n",
    "                   'Supermarket/Grocery - Number of Walk-in Refrigeration/Freezer Units', \n",
    "                   'Wholesale Club/Supercenter- Gross Floor Area (ft²)', \n",
    "                   'Wholesale Club/Supercenter- Exterior Entrance to the Public', \n",
    "                   'Wastewater Treatment Plant - Gross Floor Area (ft²)', 'Worship Facility - Gross Floor Area (ft²)',\n",
    "                   'Estimated Data Flag - Electricity (Grid Purchase)', 'Estimated Data Flag - Natural Gas', \n",
    "                   'Estimated Data Flag - Fuel Oil (No. 1)', 'Estimated Data Flag - Fuel Oil (No. 2)', \n",
    "                   'Estimated Data Flag - Fuel Oil (No. 4)', 'Estimated Data Flag - Fuel Oil (No. 5 and No. 6)', \n",
    "                   'Estimated Data Flag - District Steam', \n",
    "                   'Estimated Data Flag - Municipally Supplied Potable Water: Mixed Indoor/Outdoor Use', \n",
    "                   'Estimated Values - Energy', 'Estimated Values - Water', 'Alert - Data Center Issue (with Estimates, IT Configuration, or IT Meter)', \n",
    "                   'Alert - Energy Meter has less than 12 full calendar months of data', 'Alert - Energy Meter has gaps', \n",
    "                   'Alert - Energy Meter has overlaps', 'Alert - Energy - No meters selected for metrics', \n",
    "                   'Alert - Energy Meter has single entry more than 65 days', \n",
    "                   'Alert - Water Meter has less than 12 full calendar months of data', \n",
    "                   'Alert - Property has no uses', 'Default Values', 'Temporary Values', \n",
    "                   'Property GFA - Self-Reported (ft²)', 'Third Party Certification', \n",
    "                   'Third Party Certification Date Anticipated', 'Third Party Certification Date Achieved', \n",
    "                   'Last Modified Date - Property', 'Last Modified Date - Electric Meters', \n",
    "                   'Last Modified Date - Gas Meters', 'Last Modified Date - Non-Electric Non-Gas Energy Meters', \n",
    "                   'Last Modified Date - Water Meters', 'Last Modified Date - Property Use', \n",
    "                   'Number of Active Energy Meters - Total', 'Number of Active Energy Meters - Used to Compute Metrics',\n",
    "                   'Number of Active Energy Meters - Not Used to Compute Metrics', 'Number of Active IT Meters', \n",
    "                   'Generation Date', 'Release Date','Propane Use (kBtu)', 'District Hot Water Use (kBtu)', 'Annual Maximum Demand (kW)', \n",
    "                   'Annual Maximum Demand (MM/YYYY)', 'Annual Maximum Demand (Meter Name (Meter ID))', 'National Median Total GHG Emissions (Metric Tons CO2e)',\n",
    "                   'Percent of RECs Retained', 'Outdoor Water Use (All Water Sources) (kgal)', 'Municipally Supplied Potable Water - Outdoor Use (kgal)',\n",
    "                   'Electricity Use - Grid Purchase and Generated from Onsite Renewable Systems (kBtu)', \n",
    "                   'Electricity Use – Generated from Onsite Renewable Systems and Used Onsite (kBtu)', \n",
    "                   'Fuel Oil #1 Use (kBtu)','Fuel Oil #2 Use (kBtu)','Fuel Oil #4 Use (kBtu)',\n",
    "                   'Fuel Oil #5 & 6 Use (kBtu)', 'Diesel #2 Use (kBtu)', 'District Steam Use (kBtu)',\n",
    "                   'District Chilled Water Use (kBtu)']\n",
    "\n",
    "df.drop(columns_to_drop, axis=1, inplace=True)"
   ]
  },
  {
   "cell_type": "code",
   "execution_count": 10,
   "id": "5ed77ab9",
   "metadata": {
    "scrolled": true
   },
   "outputs": [
    {
     "data": {
      "text/plain": [
       "(18751, 79)"
      ]
     },
     "execution_count": 10,
     "metadata": {},
     "output_type": "execute_result"
    }
   ],
   "source": [
    "df.shape"
   ]
  },
  {
   "cell_type": "code",
   "execution_count": 11,
   "id": "16bcadda",
   "metadata": {
    "scrolled": true
   },
   "outputs": [
    {
     "data": {
      "text/plain": [
       "Existing    18720\n",
       "Test           31\n",
       "Name: Construction Status, dtype: int64"
      ]
     },
     "execution_count": 11,
     "metadata": {},
     "output_type": "execute_result"
    }
   ],
   "source": [
    "df['Construction Status'].value_counts()"
   ]
  },
  {
   "cell_type": "code",
   "execution_count": 12,
   "id": "790827e5",
   "metadata": {},
   "outputs": [],
   "source": [
    "df.drop(df[df['Construction Status'] == 'Test'].index, inplace = True)"
   ]
  },
  {
   "cell_type": "code",
   "execution_count": 13,
   "id": "7f7b2618",
   "metadata": {},
   "outputs": [],
   "source": [
    "df.replace('Not Available', np.nan, inplace=True)\n",
    "df.replace('Insufficient access', np.nan, inplace=True)"
   ]
  },
  {
   "cell_type": "code",
   "execution_count": 14,
   "id": "fa169506",
   "metadata": {
    "scrolled": true
   },
   "outputs": [
    {
     "data": {
      "text/plain": [
       "count    18720.000000\n",
       "mean        19.903365\n",
       "std          5.535997\n",
       "min          6.000000\n",
       "25%         17.000000\n",
       "50%         19.000000\n",
       "75%         22.000000\n",
       "max         55.000000\n",
       "Name: na_sum, dtype: float64"
      ]
     },
     "execution_count": 14,
     "metadata": {},
     "output_type": "execute_result"
    }
   ],
   "source": [
    "df['na_sum']=df.isnull().sum(axis=1)\n",
    "df.na_sum.describe()"
   ]
  },
  {
   "cell_type": "code",
   "execution_count": 15,
   "id": "b39324fa",
   "metadata": {
    "scrolled": true
   },
   "outputs": [
    {
     "data": {
      "text/plain": [
       "(array([7.360e+02, 1.715e+03, 8.440e+03, 5.747e+03, 1.410e+03, 2.730e+02,\n",
       "        1.190e+02, 2.130e+02, 6.100e+01, 6.000e+00]),\n",
       " array([ 6. , 10.9, 15.8, 20.7, 25.6, 30.5, 35.4, 40.3, 45.2, 50.1, 55. ]),\n",
       " <BarContainer object of 10 artists>)"
      ]
     },
     "execution_count": 15,
     "metadata": {},
     "output_type": "execute_result"
    },
    {
     "data": {
      "image/png": "[encoded data removed]",
      "text/plain": [
       "<Figure size 432x288 with 1 Axes>"
      ]
     },
     "metadata": {
      "needs_background": "light"
     },
     "output_type": "display_data"
    }
   ],
   "source": [
    "plt.hist(df.na_sum)"
   ]
  },
  {
   "cell_type": "code",
   "execution_count": 16,
   "id": "84693837",
   "metadata": {},
   "outputs": [],
   "source": [
    "df.dropna(axis=0, subset=['Latitude', 'Longitude'], inplace=True)"
   ]
  },
  {
   "cell_type": "code",
   "execution_count": 17,
   "id": "4720466e",
   "metadata": {},
   "outputs": [
    {
     "data": {
      "text/plain": [
       "(18137, 80)"
      ]
     },
     "execution_count": 17,
     "metadata": {},
     "output_type": "execute_result"
    }
   ],
   "source": [
    "df.shape"
   ]
  },
  {
   "cell_type": "code",
   "execution_count": 18,
   "id": "cdd2e368",
   "metadata": {
    "scrolled": true
   },
   "outputs": [
    {
     "data": {
      "text/plain": [
       "No          10948\n",
       "100% Yes     1700\n",
       "Name: Multifamily Housing - Government Subsidized Housing, dtype: int64"
      ]
     },
     "execution_count": 18,
     "metadata": {},
     "output_type": "execute_result"
    }
   ],
   "source": [
    "df['Multifamily Housing - Government Subsidized Housing'].value_counts()"
   ]
  },
  {
   "cell_type": "code",
   "execution_count": 19,
   "id": "2fc50dd4",
   "metadata": {},
   "outputs": [
    {
     "data": {
      "text/plain": [
       "0.0    10948\n",
       "1.0     1700\n",
       "Name: Multifamily Housing - Government Subsidized Housing, dtype: int64"
      ]
     },
     "execution_count": 19,
     "metadata": {},
     "output_type": "execute_result"
    }
   ],
   "source": [
    "df['Multifamily Housing - Government Subsidized Housing'].replace({'No':0, '100% Yes':1}, inplace=True)\n",
    "df['Multifamily Housing - Government Subsidized Housing'].value_counts()"
   ]
  },
  {
   "cell_type": "code",
   "execution_count": 20,
   "id": "cc96988f",
   "metadata": {},
   "outputs": [
    {
     "name": "stdout",
     "output_type": "stream",
     "text": [
      "<class 'pandas.core.frame.DataFrame'>\n",
      "Int64Index: 18137 entries, 48 to 28065\n",
      "Data columns (total 80 columns):\n",
      " #   Column                                                                                                             Non-Null Count  Dtype  \n",
      "---  ------                                                                                                             --------------  -----  \n",
      " 0   Property Name                                                                                                      18137 non-null  object \n",
      " 1   Address 1                                                                                                          18137 non-null  object \n",
      " 2   Postcode                                                                                                           18137 non-null  object \n",
      " 3   Largest Property Use Type                                                                                          18137 non-null  object \n",
      " 4   Largest Property Use Type - Gross Floor Area (ft²)                                                                 18137 non-null  object \n",
      " 5   2nd Largest Property Use Type                                                                                      4196 non-null   object \n",
      " 6   2nd Largest Property Use - Gross Floor Area (ft²)                                                                  4196 non-null   object \n",
      " 7   3rd Largest Property Use Type                                                                                      1458 non-null   object \n",
      " 8   3rd Largest Property Use Type - Gross Floor Area (ft²)                                                             1458 non-null   object \n",
      " 9   Year Built                                                                                                         18137 non-null  int64  \n",
      " 10  Construction Status                                                                                                18137 non-null  object \n",
      " 11  Occupancy                                                                                                          18137 non-null  int64  \n",
      " 12  Metered Areas (Energy)                                                                                             17874 non-null  object \n",
      " 13  Metered Areas (Water)                                                                                              15036 non-null  object \n",
      " 14  ENERGY STAR Certification - Eligibility                                                                            18137 non-null  object \n",
      " 15  Weather Normalized Site EUI (kBtu/ft²)                                                                             16567 non-null  object \n",
      " 16  Weather Normalized Site Energy Use (kBtu)                                                                          16567 non-null  object \n",
      " 17  Weather Normalized Site Electricity Intensity (kWh/ft²)                                                            17540 non-null  object \n",
      " 18  Weather Normalized Site Natural Gas Intensity (therms/ft²)                                                         17003 non-null  object \n",
      " 19  Weather Normalized Source EUI (kBtu/ft²)                                                                           16567 non-null  object \n",
      " 20  Weather Normalized Source Energy Use (kBtu)                                                                        16567 non-null  object \n",
      " 21  Natural Gas Use (kBtu)                                                                                             17308 non-null  object \n",
      " 22  Weather Normalized Site Natural Gas Use (therms)                                                                   17003 non-null  object \n",
      " 23  Weather Normalized Site Electricity (kWh)                                                                          17540 non-null  object \n",
      " 24  Electricity Use - Grid Purchase and Generated from Onsite Renewable Systems (kWh)                                  17671 non-null  object \n",
      " 25  Electricity Use – Generated from Onsite Renewable Systems and Used Onsite (kWh)                                    33 non-null     object \n",
      " 26  Electricity Use – Generated from Onsite Renewable Systems (kWh)                                                    33 non-null     object \n",
      " 27  Electricity Use – Generated from Onsite Renewable Systems and Exported (kWh)                                       33 non-null     object \n",
      " 28  Green Power - Onsite (kWh)                                                                                         33 non-null     object \n",
      " 29  Green Power - Offsite (kWh)                                                                                        17671 non-null  object \n",
      " 30  Green Power - Onsite and Offsite (kWh)                                                                             17671 non-null  object \n",
      " 31  Total GHG Emissions (Metric Tons CO2e)                                                                             18025 non-null  object \n",
      " 32  Direct GHG Emissions (Metric Tons CO2e)                                                                            18039 non-null  object \n",
      " 33  Total GHG Emissions Intensity (kgCO2e/ft²)                                                                         18025 non-null  object \n",
      " 34  Direct GHG Emissions Intensity (kgCO2e/ft²)                                                                        18039 non-null  object \n",
      " 35  Indirect GHG Emissions (Metric Tons CO2e)                                                                          18066 non-null  object \n",
      " 36  Net Emissions (Metric Tons CO2e)                                                                                   18063 non-null  object \n",
      " 37  Indirect GHG Emissions Intensity (kgCO2e/ft²)                                                                      18066 non-null  object \n",
      " 38  eGRID Output Emissions Rate (kgCO2e/MBtu)                                                                          18128 non-null  object \n",
      " 39  Avoided Emissions - Onsite Green Power (Metric Tons CO2e)                                                          33 non-null     object \n",
      " 40  Avoided Emissions - Offsite Green Power (Metric Tons CO2e)                                                         17688 non-null  object \n",
      " 41  Avoided Emissions - Onsite and Offsite Green Power (Metric Tons CO2e)                                              17688 non-null  object \n",
      " 42  Percent of Electricity that is Green Power                                                                         17661 non-null  object \n",
      " 43  Percent of Total Electricity Generated from Onsite Renewable Systems                                               33 non-null     object \n",
      " 44  LEED US Project ID                                                                                                 5 non-null      object \n",
      " 45  Multifamily Housing - Government Subsidized Housing                                                                12648 non-null  float64\n",
      " 46  Multifamily Housing - Gross Floor Area (ft²)                                                                       18137 non-null  object \n",
      " 47  Multifamily Housing - Number of Bedrooms                                                                           18134 non-null  object \n",
      " 48  Multifamily Housing - Number of Bedrooms Density (Number per 1,000 sq ft)                                          18134 non-null  object \n",
      " 49  Multifamily Housing - Number of Laundry Hookups in All Units                                                       11999 non-null  object \n",
      " 50  Multifamily Housing - Number of Laundry Hookups in Common Area(s)                                                  12140 non-null  object \n",
      " 51  Multifamily Housing - Number of Residential Living Units in a High-Rise Building (10 or more Stories)              18136 non-null  object \n",
      " 52  Multifamily Housing - Total Number of Residential Living Units                                                     18135 non-null  object \n",
      " 53  Multifamily Housing - Total Number of Residential Living Units Density (Number per 1,000 sq ft)                    18135 non-null  object \n",
      " 54  Multifamily Housing - Number of Residential Living Units in a High-Rise Building Density (Number per 1,000 sq ft)  18136 non-null  object \n",
      " 55  Multifamily Housing - Number of Residential Living Units in a Mid-Rise Building (5-9 Stories)                      18135 non-null  object \n",
      " 56  Multifamily Housing - Number of Residential Living Units in a Mid-Rise Building Density (Number per 1,000 sq ft)   18135 non-null  object \n",
      " 57  Multifamily Housing - Percent That Can Be Cooled                                                                   14682 non-null  object \n",
      " 58  Multifamily Housing - Percent That Can Be Heated                                                                   14805 non-null  object \n",
      " 59  Multifamily Housing - Resident Population Type                                                                     12388 non-null  object \n",
      " 60  Parking - Gross Floor Area (ft²)                                                                                   1645 non-null   object \n",
      " 61  Parking - Completely Enclosed Parking Garage Size (ft²)                                                            1645 non-null   object \n",
      " 62  Parking - Open Parking Lot Size (ft²)                                                                              1645 non-null   object \n",
      " 63  Parking - Partially Enclosed Parking Garage Size (ft²)                                                             1645 non-null   object \n",
      " 64  Property GFA - Calculated (Buildings and Parking) (ft²)                                                            18137 non-null  object \n",
      " 65  Property GFA - Calculated (Buildings) (ft²)                                                                        18137 non-null  object \n",
      " 66  Property GFA - Calculated (Parking) (ft²)                                                                          1645 non-null   object \n",
      " 67  Water Use (All Water Sources) (kgal)                                                                               13228 non-null  object \n",
      " 68  Indoor Water Use (All Water Sources) (kgal)                                                                        13039 non-null  object \n",
      " 69  Municipally Supplied Potable Water - Mixed Indoor/Outdoor Use (kgal)                                               204 non-null    object \n",
      " 70  Municipally Supplied Potable Water - Total Use (All Meter Types) (kgal)                                            13223 non-null  object \n",
      " 71  Municipally Supplied Potable Water - Indoor Use (kgal)                                                             13038 non-null  object \n",
      " 72  Borough                                                                                                            18137 non-null  object \n",
      " 73  Community Board                                                                                                    18137 non-null  float64\n",
      " 74  Council District                                                                                                   18137 non-null  float64\n",
      " 75  Census Tract                                                                                                       18137 non-null  float64\n",
      " 76  NTA                                                                                                                18137 non-null  object \n",
      " 77  Longitude                                                                                                          18137 non-null  float64\n",
      " 78  Latitude                                                                                                           18137 non-null  float64\n",
      " 79  na_sum                                                                                                             18137 non-null  int64  \n",
      "dtypes: float64(6), int64(3), object(71)\n",
      "memory usage: 11.2+ MB\n"
     ]
    }
   ],
   "source": [
    "df.info()"
   ]
  },
  {
   "cell_type": "code",
   "execution_count": 21,
   "id": "7ac68150",
   "metadata": {
    "scrolled": true
   },
   "outputs": [],
   "source": [
    "incorrect_type_columns =  [4,6,8, *range(15,44), *range(45,59), *range(60,72)]\n",
    "\n",
    "columns_to_convert = df.iloc[:,incorrect_type_columns]\n",
    "\n",
    "for column in columns_to_convert:\n",
    "    df[column] = df[column].astype(float)"
   ]
  },
  {
   "cell_type": "code",
   "execution_count": 22,
   "id": "7dac9f7d",
   "metadata": {},
   "outputs": [
    {
     "data": {
      "text/plain": [
       "No     13529\n",
       "Yes     4608\n",
       "Name: ENERGY STAR Certification - Eligibility, dtype: int64"
      ]
     },
     "execution_count": 22,
     "metadata": {},
     "output_type": "execute_result"
    }
   ],
   "source": [
    "df['ENERGY STAR Certification - Eligibility'].value_counts()"
   ]
  },
  {
   "cell_type": "code",
   "execution_count": 23,
   "id": "9f5f01ef",
   "metadata": {
    "scrolled": true
   },
   "outputs": [
    {
     "data": {
      "text/plain": [
       "0    13529\n",
       "1     4608\n",
       "Name: ENERGY STAR Certification - Eligibility, dtype: int64"
      ]
     },
     "execution_count": 23,
     "metadata": {},
     "output_type": "execute_result"
    }
   ],
   "source": [
    "df['ENERGY STAR Certification - Eligibility'].replace({'No':0, 'Yes':1}, inplace=True)\n",
    "df['ENERGY STAR Certification - Eligibility'].value_counts()"
   ]
  },
  {
   "cell_type": "code",
   "execution_count": 24,
   "id": "6d7120f7",
   "metadata": {},
   "outputs": [],
   "source": [
    "df['LEED US Project ID'].replace(to_replace=['1000120270','8000011385', '10002686', '10086896', '10089648'], value=1,inplace=True)"
   ]
  },
  {
   "cell_type": "code",
   "execution_count": 25,
   "id": "a38de744",
   "metadata": {
    "scrolled": true
   },
   "outputs": [
    {
     "data": {
      "text/plain": [
       "Whole Property                                                                                                                          17861\n",
       "Another configuration                                                                                                                       4\n",
       "Common areas (all energy loads)                                                                                                             3\n",
       "Tenant Heating, Common Area Heating, Common Area Cooling, Common Area Hot Water, Common Area Plug Load/Electricity, Tenant Hot Water        1\n",
       "Common Area Hot Water, Common Area Cooling, Common Area Plug Load/Electricity, Tenant Hot Water, Common Area Heating, Tenant Heating        1\n",
       "Tenant Plug Load/Electricity                                                                                                                1\n",
       "Common Area Hot Water, Tenant Heating, Common Area Cooling, Common Area Heating, Tenant Hot Water, Common Area Plug Load/Electricity        1\n",
       "Common Area Plug Load/Electricity, Tenant Hot Water                                                                                         1\n",
       "Common Area Cooling, Common Area Heating, Common Area Hot Water, Common Area Plug Load/Electricity, Tenant Heating, Tenant Hot Water        1\n",
       "Name: Metered Areas (Energy), dtype: int64"
      ]
     },
     "execution_count": 25,
     "metadata": {},
     "output_type": "execute_result"
    }
   ],
   "source": [
    "df['Metered Areas (Energy)'].value_counts()"
   ]
  },
  {
   "cell_type": "code",
   "execution_count": 26,
   "id": "90158952",
   "metadata": {},
   "outputs": [],
   "source": [
    "df['Metered Areas (Energy)'].replace(to_replace=['Another configuration','Common areas (all energy loads)','Common Area Cooling, Common Area Heating, Common Area Hot Water, Common Area Plug Load/Electricity, Tenant Heating, Tenant Hot Water', 'Tenant Heating, Common Area Heating, Common Area Cooling, Common Area Hot Water, Common Area Plug Load/Electricity, Tenant Hot Water', 'Common Area Plug Load/Electricity, Tenant Hot Water','Common Area Hot Water, Tenant Heating, Common Area Cooling, Common Area Heating, Tenant Hot Water, Common Area Plug Load/Electricity', 'Common Area Hot Water, Common Area Cooling, Common Area Plug Load/Electricity, Tenant Hot Water, Common Area Heating, Tenant Heating', 'Tenant Plug Load/Electricity'],value=0, inplace=True)\n",
    "df['Metered Areas (Energy)'].replace(to_replace='Whole Property', value=1, inplace=True)\n"
   ]
  },
  {
   "cell_type": "code",
   "execution_count": 27,
   "id": "5b1943d1",
   "metadata": {},
   "outputs": [],
   "source": [
    "df['Metered Areas (Water)'].replace(to_replace=['Another configuration','Common areas (all energy loads)', 'Tenant and/or common areas (partial energy loads)'], \n",
    "                                                 value=0, inplace=True)\n",
    "df['Metered Areas (Water)'].replace(to_replace='Whole Property', value=1, inplace=True)"
   ]
  },
  {
   "cell_type": "code",
   "execution_count": 28,
   "id": "e7774367",
   "metadata": {},
   "outputs": [],
   "source": [
    "y = df['ENERGY STAR Certification - Eligibility']\n",
    "cat_columns = ['Property Name', 'Postcode', 'Address 1', 'Largest Property Use Type','2nd Largest Property Use Type',\n",
    "                     '3rd Largest Property Use Type','Construction Status', 'ENERGY STAR Certification - Eligibility',\n",
    "                    'Multifamily Housing - Resident Population Type','Borough', 'NTA', 'Community Board', 'Council District', 'Census Tract',\n",
    "                    'Latitude', 'Longitude']\n",
    "\n",
    "\n",
    "X = df.drop(cat_columns, axis=1).copy()"
   ]
  },
  {
   "cell_type": "code",
   "execution_count": 29,
   "id": "da7b6c3f",
   "metadata": {
    "scrolled": true
   },
   "outputs": [
    {
     "data": {
      "text/plain": [
       "0    13529\n",
       "1     4608\n",
       "Name: ENERGY STAR Certification - Eligibility, dtype: int64"
      ]
     },
     "execution_count": 29,
     "metadata": {},
     "output_type": "execute_result"
    }
   ],
   "source": [
    "y.value_counts()"
   ]
  },
  {
   "cell_type": "code",
   "execution_count": 30,
   "id": "61d405ee",
   "metadata": {
    "scrolled": true
   },
   "outputs": [
    {
     "data": {
      "text/plain": [
       "(18137, 64)"
      ]
     },
     "execution_count": 30,
     "metadata": {},
     "output_type": "execute_result"
    }
   ],
   "source": [
    "X.shape"
   ]
  },
  {
   "cell_type": "code",
   "execution_count": 31,
   "id": "73bb7995",
   "metadata": {},
   "outputs": [],
   "source": [
    "NA_values_to_0 = ['2nd Largest Property Use - Gross Floor Area (ft²)', '3rd Largest Property Use Type - Gross Floor Area (ft²)','Metered Areas (Energy)', 'Metered Areas (Water)', 'Avoided Emissions - Offsite Green Power (Metric Tons CO2e)', 'Avoided Emissions - Onsite and Offsite Green Power (Metric Tons CO2e)', 'Electricity Use – Generated from Onsite Renewable Systems and Used Onsite (kWh)', 'Electricity Use – Generated from Onsite Renewable Systems (kWh)', 'LEED US Project ID','Electricity Use – Generated from Onsite Renewable Systems and Exported (kWh)', 'Avoided Emissions - Onsite Green Power (Metric Tons CO2e)', 'Green Power - Onsite (kWh)', 'Percent of Total Electricity Generated from Onsite Renewable Systems', 'Percent of Electricity that is Green Power','Multifamily Housing - Government Subsidized Housing', 'Parking - Gross Floor Area (ft²)', 'Parking - Completely Enclosed Parking Garage Size (ft²)', 'Parking - Open Parking Lot Size (ft²)', 'Parking - Partially Enclosed Parking Garage Size (ft²)', 'Property GFA - Calculated (Parking) (ft²)', 'Municipally Supplied Potable Water - Mixed Indoor/Outdoor Use (kgal)']\n",
    "NA_values_to_median = ['Weather Normalized Site EUI (kBtu/ft²)','Weather Normalized Site Energy Use (kBtu)', 'Weather Normalized Site Electricity Intensity (kWh/ft²)', 'Weather Normalized Site Natural Gas Intensity (therms/ft²)', 'Weather Normalized Source EUI (kBtu/ft²)', 'Weather Normalized Source Energy Use (kBtu)', 'Natural Gas Use (kBtu)', 'Weather Normalized Site Natural Gas Use (therms)', 'Weather Normalized Site Electricity (kWh)', 'Electricity Use - Grid Purchase and Generated from Onsite Renewable Systems (kWh)', 'Green Power - Onsite (kWh)' , 'Green Power - Offsite (kWh)', 'Green Power - Onsite and Offsite (kWh)', 'Total GHG Emissions (Metric Tons CO2e)', 'Total GHG Emissions Intensity (kgCO2e/ft²)','Direct GHG Emissions (Metric Tons CO2e)', 'Total GHG Emissions Intensity (kgCO2e/ft²)', 'Direct GHG Emissions Intensity (kgCO2e/ft²)',  'Indirect GHG Emissions (Metric Tons CO2e)', 'Net Emissions (Metric Tons CO2e)', 'Indirect GHG Emissions Intensity (kgCO2e/ft²)', 'eGRID Output Emissions Rate (kgCO2e/MBtu)', 'Multifamily Housing - Number of Bedrooms', 'Multifamily Housing - Number of Bedrooms Density (Number per 1,000 sq ft)', 'Multifamily Housing - Number of Laundry Hookups in All Units', 'Multifamily Housing - Number of Laundry Hookups in Common Area(s)',  'Multifamily Housing - Number of Residential Living Units in a High-Rise Building (10 or more Stories)', 'Multifamily Housing - Total Number of Residential Living Units', 'Multifamily Housing - Total Number of Residential Living Units Density (Number per 1,000 sq ft)', 'Multifamily Housing - Number of Residential Living Units in a High-Rise Building Density (Number per 1,000 sq ft)', 'Multifamily Housing - Number of Residential Living Units in a Mid-Rise Building (5-9 Stories)', 'Multifamily Housing - Number of Residential Living Units in a Mid-Rise Building Density (Number per 1,000 sq ft)', 'Multifamily Housing - Percent That Can Be Cooled', 'Multifamily Housing - Percent That Can Be Heated', 'Water Use (All Water Sources) (kgal)', 'Indoor Water Use (All Water Sources) (kgal)', 'Municipally Supplied Potable Water - Total Use (All Meter Types) (kgal)', 'Municipally Supplied Potable Water - Indoor Use (kgal)']\n",
    "\n",
    "for column in NA_values_to_0:\n",
    "    X[column].fillna(0,axis=0, inplace=True)\n",
    "\n",
    "for column in NA_values_to_median:\n",
    "    median = np.median(X[column].dropna())\n",
    "    X[column].fillna(median, axis=0, inplace=True)"
   ]
  },
  {
   "cell_type": "code",
   "execution_count": 32,
   "id": "6ad88e5b",
   "metadata": {},
   "outputs": [
    {
     "data": {
      "text/plain": [
       "(21, 38)"
      ]
     },
     "execution_count": 32,
     "metadata": {},
     "output_type": "execute_result"
    }
   ],
   "source": [
    "len(NA_values_to_0), len(NA_values_to_median)"
   ]
  },
  {
   "cell_type": "code",
   "execution_count": 121,
   "id": "9604aa4e",
   "metadata": {
    "scrolled": true
   },
   "outputs": [
    {
     "name": "stdout",
     "output_type": "stream",
     "text": [
      "<class 'pandas.core.frame.DataFrame'>\n",
      "Int64Index: 18137 entries, 48 to 28065\n",
      "Data columns (total 64 columns):\n",
      " #   Column                                                                                                             Non-Null Count  Dtype  \n",
      "---  ------                                                                                                             --------------  -----  \n",
      " 0   Largest Property Use Type - Gross Floor Area (ft²)                                                                 18137 non-null  float64\n",
      " 1   2nd Largest Property Use - Gross Floor Area (ft²)                                                                  18137 non-null  float64\n",
      " 2   3rd Largest Property Use Type - Gross Floor Area (ft²)                                                             18137 non-null  float64\n",
      " 3   Year Built                                                                                                         18137 non-null  int64  \n",
      " 4   Occupancy                                                                                                          18137 non-null  int64  \n",
      " 5   Metered Areas (Energy)                                                                                             18137 non-null  float64\n",
      " 6   Metered Areas (Water)                                                                                              18137 non-null  float64\n",
      " 7   Weather Normalized Site EUI (kBtu/ft²)                                                                             18137 non-null  float64\n",
      " 8   Weather Normalized Site Energy Use (kBtu)                                                                          18137 non-null  float64\n",
      " 9   Weather Normalized Site Electricity Intensity (kWh/ft²)                                                            18137 non-null  float64\n",
      " 10  Weather Normalized Site Natural Gas Intensity (therms/ft²)                                                         18137 non-null  float64\n",
      " 11  Weather Normalized Source EUI (kBtu/ft²)                                                                           18137 non-null  float64\n",
      " 12  Weather Normalized Source Energy Use (kBtu)                                                                        18137 non-null  float64\n",
      " 13  Natural Gas Use (kBtu)                                                                                             18137 non-null  float64\n",
      " 14  Weather Normalized Site Natural Gas Use (therms)                                                                   18137 non-null  float64\n",
      " 15  Weather Normalized Site Electricity (kWh)                                                                          18137 non-null  float64\n",
      " 16  Electricity Use - Grid Purchase and Generated from Onsite Renewable Systems (kWh)                                  18137 non-null  float64\n",
      " 17  Electricity Use – Generated from Onsite Renewable Systems and Used Onsite (kWh)                                    18137 non-null  float64\n",
      " 18  Electricity Use – Generated from Onsite Renewable Systems (kWh)                                                    18137 non-null  float64\n",
      " 19  Electricity Use – Generated from Onsite Renewable Systems and Exported (kWh)                                       18137 non-null  float64\n",
      " 20  Green Power - Onsite (kWh)                                                                                         18137 non-null  float64\n",
      " 21  Green Power - Offsite (kWh)                                                                                        18137 non-null  float64\n",
      " 22  Green Power - Onsite and Offsite (kWh)                                                                             18137 non-null  float64\n",
      " 23  Total GHG Emissions (Metric Tons CO2e)                                                                             18137 non-null  float64\n",
      " 24  Direct GHG Emissions (Metric Tons CO2e)                                                                            18137 non-null  float64\n",
      " 25  Total GHG Emissions Intensity (kgCO2e/ft²)                                                                         18137 non-null  float64\n",
      " 26  Direct GHG Emissions Intensity (kgCO2e/ft²)                                                                        18137 non-null  float64\n",
      " 27  Indirect GHG Emissions (Metric Tons CO2e)                                                                          18137 non-null  float64\n",
      " 28  Net Emissions (Metric Tons CO2e)                                                                                   18137 non-null  float64\n",
      " 29  Indirect GHG Emissions Intensity (kgCO2e/ft²)                                                                      18137 non-null  float64\n",
      " 30  eGRID Output Emissions Rate (kgCO2e/MBtu)                                                                          18137 non-null  float64\n",
      " 31  Avoided Emissions - Onsite Green Power (Metric Tons CO2e)                                                          18137 non-null  float64\n",
      " 32  Avoided Emissions - Offsite Green Power (Metric Tons CO2e)                                                         18137 non-null  float64\n",
      " 33  Avoided Emissions - Onsite and Offsite Green Power (Metric Tons CO2e)                                              18137 non-null  float64\n",
      " 34  Percent of Electricity that is Green Power                                                                         18137 non-null  float64\n",
      " 35  Percent of Total Electricity Generated from Onsite Renewable Systems                                               18137 non-null  float64\n",
      " 36  LEED US Project ID                                                                                                 18137 non-null  float64\n",
      " 37  Multifamily Housing - Government Subsidized Housing                                                                18137 non-null  float64\n",
      " 38  Multifamily Housing - Gross Floor Area (ft²)                                                                       18137 non-null  float64\n",
      " 39  Multifamily Housing - Number of Bedrooms                                                                           18137 non-null  float64\n",
      " 40  Multifamily Housing - Number of Bedrooms Density (Number per 1,000 sq ft)                                          18137 non-null  float64\n",
      " 41  Multifamily Housing - Number of Laundry Hookups in All Units                                                       18137 non-null  float64\n",
      " 42  Multifamily Housing - Number of Laundry Hookups in Common Area(s)                                                  18137 non-null  float64\n",
      " 43  Multifamily Housing - Number of Residential Living Units in a High-Rise Building (10 or more Stories)              18137 non-null  float64\n",
      " 44  Multifamily Housing - Total Number of Residential Living Units                                                     18137 non-null  float64\n",
      " 45  Multifamily Housing - Total Number of Residential Living Units Density (Number per 1,000 sq ft)                    18137 non-null  float64\n",
      " 46  Multifamily Housing - Number of Residential Living Units in a High-Rise Building Density (Number per 1,000 sq ft)  18137 non-null  float64\n",
      " 47  Multifamily Housing - Number of Residential Living Units in a Mid-Rise Building (5-9 Stories)                      18137 non-null  float64\n",
      " 48  Multifamily Housing - Number of Residential Living Units in a Mid-Rise Building Density (Number per 1,000 sq ft)   18137 non-null  float64\n",
      " 49  Multifamily Housing - Percent That Can Be Cooled                                                                   18137 non-null  float64\n",
      " 50  Multifamily Housing - Percent That Can Be Heated                                                                   18137 non-null  float64\n",
      " 51  Parking - Gross Floor Area (ft²)                                                                                   18137 non-null  float64\n",
      " 52  Parking - Completely Enclosed Parking Garage Size (ft²)                                                            18137 non-null  float64\n",
      " 53  Parking - Open Parking Lot Size (ft²)                                                                              18137 non-null  float64\n",
      " 54  Parking - Partially Enclosed Parking Garage Size (ft²)                                                             18137 non-null  float64\n",
      " 55  Property GFA - Calculated (Buildings and Parking) (ft²)                                                            18137 non-null  float64\n",
      " 56  Property GFA - Calculated (Buildings) (ft²)                                                                        18137 non-null  float64\n",
      " 57  Property GFA - Calculated (Parking) (ft²)                                                                          18137 non-null  float64\n",
      " 58  Water Use (All Water Sources) (kgal)                                                                               18137 non-null  float64\n",
      " 59  Indoor Water Use (All Water Sources) (kgal)                                                                        18137 non-null  float64\n",
      " 60  Municipally Supplied Potable Water - Mixed Indoor/Outdoor Use (kgal)                                               18137 non-null  float64\n",
      " 61  Municipally Supplied Potable Water - Total Use (All Meter Types) (kgal)                                            18137 non-null  float64\n",
      " 62  Municipally Supplied Potable Water - Indoor Use (kgal)                                                             18137 non-null  float64\n",
      " 63  na_sum                                                                                                             18137 non-null  int64  \n",
      "dtypes: float64(61), int64(3)\n",
      "memory usage: 9.0 MB\n"
     ]
    }
   ],
   "source": [
    "X.info()"
   ]
  },
  {
   "cell_type": "code",
   "execution_count": 120,
   "id": "2a63ce18",
   "metadata": {},
   "outputs": [],
   "source": [
    "classification_df = pd.concat([X, y], axis=1)\n",
    "classification_df = classification_df.to_csv('classification_df.csv')"
   ]
  },
  {
   "cell_type": "markdown",
   "id": "f2bd94b0",
   "metadata": {},
   "source": [
    "# Splitting data into train, validation, and test subsets"
   ]
  },
  {
   "cell_type": "code",
   "execution_count": 105,
   "id": "f859c4d4",
   "metadata": {},
   "outputs": [],
   "source": [
    "from sklearn.model_selection import train_test_split"
   ]
  },
  {
   "cell_type": "code",
   "execution_count": 106,
   "id": "3184519d",
   "metadata": {},
   "outputs": [],
   "source": [
    "X_train, X_test, y_train, y_test = train_test_split(X, y, test_size = .2, random_state=42)"
   ]
  },
  {
   "cell_type": "markdown",
   "id": "11e25d26",
   "metadata": {},
   "source": [
    "# Exploring the training set "
   ]
  },
  {
   "cell_type": "code",
   "execution_count": 107,
   "id": "700bf513",
   "metadata": {
    "scrolled": true
   },
   "outputs": [
    {
     "data": {
      "text/plain": [
       "<matplotlib.collections.PathCollection at 0x7f8385103610>"
      ]
     },
     "execution_count": 107,
     "metadata": {},
     "output_type": "execute_result"
    },
    {
     "data": {
      "image/png": "[encoded data removed]",
      "text/plain": [
       "<Figure size 432x288 with 1 Axes>"
      ]
     },
     "metadata": {
      "needs_background": "light"
     },
     "output_type": "display_data"
    }
   ],
   "source": [
    "plt.scatter(X['Indirect GHG Emissions Intensity (kgCO2e/ft²)'], y)"
   ]
  },
  {
   "cell_type": "code",
   "execution_count": 108,
   "id": "eeea8ac4",
   "metadata": {
    "scrolled": true
   },
   "outputs": [
    {
     "data": {
      "text/plain": [
       "<matplotlib.collections.PathCollection at 0x7f83850eccd0>"
      ]
     },
     "execution_count": 108,
     "metadata": {},
     "output_type": "execute_result"
    },
    {
     "data": {
      "image/png": "[encoded data removed]",
      "text/plain": [
       "<Figure size 432x288 with 1 Axes>"
      ]
     },
     "metadata": {
      "needs_background": "light"
     },
     "output_type": "display_data"
    }
   ],
   "source": [
    "plt.scatter(X['Weather Normalized Site EUI (kBtu/ft²)'], y)"
   ]
  },
  {
   "cell_type": "code",
   "execution_count": 109,
   "id": "1661c756",
   "metadata": {},
   "outputs": [],
   "source": [
    "train_df = pd.concat([X_train, y_train], axis=1)"
   ]
  },
  {
   "cell_type": "code",
   "execution_count": 110,
   "id": "f48b3c00",
   "metadata": {},
   "outputs": [
    {
     "ename": "NameError",
     "evalue": "name 'tick' is not defined",
     "output_type": "error",
     "traceback": [
      "\u001b[0;31m---------------------------------------------------------------------------\u001b[0m",
      "\u001b[0;31mNameError\u001b[0m                                 Traceback (most recent call last)",
      "\u001b[0;32m<ipython-input-110-eaf61ab22ea2>\u001b[0m in \u001b[0;36m<module>\u001b[0;34m\u001b[0m\n\u001b[1;32m      5\u001b[0m \u001b[0mplt\u001b[0m\u001b[0;34m.\u001b[0m\u001b[0mtitle\u001b[0m\u001b[0;34m(\u001b[0m\u001b[0;34m\"Credit Card Decisions Based on Yearly Income\"\u001b[0m\u001b[0;34m,\u001b[0m \u001b[0my\u001b[0m\u001b[0;34m=\u001b[0m\u001b[0;36m1.015\u001b[0m\u001b[0;34m,\u001b[0m \u001b[0mfontsize\u001b[0m\u001b[0;34m=\u001b[0m\u001b[0;36m20\u001b[0m\u001b[0;34m)\u001b[0m\u001b[0;34m\u001b[0m\u001b[0;34m\u001b[0m\u001b[0m\n\u001b[1;32m      6\u001b[0m \u001b[0max\u001b[0m \u001b[0;34m=\u001b[0m \u001b[0mplt\u001b[0m\u001b[0;34m.\u001b[0m\u001b[0mgca\u001b[0m\u001b[0;34m(\u001b[0m\u001b[0;34m)\u001b[0m\u001b[0;34m\u001b[0m\u001b[0;34m\u001b[0m\u001b[0m\n\u001b[0;32m----> 7\u001b[0;31m \u001b[0max\u001b[0m\u001b[0;34m.\u001b[0m\u001b[0mxaxis\u001b[0m\u001b[0;34m.\u001b[0m\u001b[0mset_major_formatter\u001b[0m\u001b[0;34m(\u001b[0m\u001b[0mtick\u001b[0m\u001b[0;34m.\u001b[0m\u001b[0mFuncFormatter\u001b[0m\u001b[0;34m(\u001b[0m\u001b[0mreformat_large_tick_values\u001b[0m\u001b[0;34m)\u001b[0m\u001b[0;34m)\u001b[0m\u001b[0;34m\u001b[0m\u001b[0;34m\u001b[0m\u001b[0m\n\u001b[0m",
      "\u001b[0;31mNameError\u001b[0m: name 'tick' is not defined"
     ]
    },
    {
     "data": {
      "image/png": "[encoded data removed]",
      "text/plain": [
       "<Figure size 648x432 with 1 Axes>"
      ]
     },
     "metadata": {
      "needs_background": "light"
     },
     "output_type": "display_data"
    }
   ],
   "source": [
    "plt.figure(figsize=(9, 6))\n",
    "sns.scatterplot(x='Electricity Use – Generated from Onsite Renewable Systems and Used Onsite (kWh)', y='ENERGY STAR Certification - Eligibility', hue='ENERGY STAR Certification - Eligibility', data=train_df, s=200)\n",
    "plt.xlabel(\"yearly income ($)\", labelpad=13)\n",
    "plt.ylabel(\"credit card decision\", labelpad=13)\n",
    "plt.title(\"Credit Card Decisions Based on Yearly Income\", y=1.015, fontsize=20)\n",
    "ax = plt.gca()\n",
    "ax.xaxis.set_major_formatter(tick.FuncFormatter(reformat_large_tick_values))"
   ]
  },
  {
   "cell_type": "code",
   "execution_count": null,
   "id": "9f41ff98",
   "metadata": {
    "scrolled": true
   },
   "outputs": [],
   "source": [
    "np.mean(y_train)"
   ]
  },
  {
   "cell_type": "markdown",
   "id": "e7cdd2b4",
   "metadata": {},
   "source": [
    "## Preprocessing"
   ]
  },
  {
   "cell_type": "code",
   "execution_count": 111,
   "id": "3d65f688",
   "metadata": {},
   "outputs": [],
   "source": [
    "from sklearn import preprocessing\n",
    "from sklearn.linear_model import LogisticRegression\n",
    "from sklearn.metrics import precision_score, recall_score, f1_score, accuracy_score, roc_auc_score, log_loss\n",
    "from sklearn.metrics import confusion_matrix, roc_curve"
   ]
  },
  {
   "cell_type": "code",
   "execution_count": 112,
   "id": "e2672ede",
   "metadata": {},
   "outputs": [],
   "source": [
    "from sklearn.preprocessing import MinMaxScaler\n",
    "\n",
    "scaler = MinMaxScaler(feature_range = (0,1))\n",
    "\n",
    "scaler.fit(X_train)\n",
    "X_train = scaler.transform(X_train)\n",
    "X_test = scaler.transform(X_test)"
   ]
  },
  {
   "cell_type": "markdown",
   "id": "54dcf234",
   "metadata": {},
   "source": [
    "# Building Logistic Regression Model"
   ]
  },
  {
   "cell_type": "code",
   "execution_count": 113,
   "id": "d3e7beb2",
   "metadata": {
    "scrolled": true
   },
   "outputs": [
    {
     "name": "stderr",
     "output_type": "stream",
     "text": [
      "/Users/evelynjohnson/opt/anaconda3/lib/python3.8/site-packages/sklearn/linear_model/_logistic.py:763: ConvergenceWarning: lbfgs failed to converge (status=1):\n",
      "STOP: TOTAL NO. of ITERATIONS REACHED LIMIT.\n",
      "\n",
      "Increase the number of iterations (max_iter) or scale the data as shown in:\n",
      "    https://scikit-learn.org/stable/modules/preprocessing.html\n",
      "Please also refer to the documentation for alternative solver options:\n",
      "    https://scikit-learn.org/stable/modules/linear_model.html#logistic-regression\n",
      "  n_iter_i = _check_optimize_result(\n"
     ]
    },
    {
     "data": {
      "text/plain": [
       "LogisticRegression(C=10000, max_iter=200)"
      ]
     },
     "execution_count": 113,
     "metadata": {},
     "output_type": "execute_result"
    }
   ],
   "source": [
    "lr_model = LogisticRegression(max_iter=200, C=10000)\n",
    "lr_model.fit(X_train, y_train)\n"
   ]
  },
  {
   "cell_type": "code",
   "execution_count": 114,
   "id": "ba0fa05f",
   "metadata": {},
   "outputs": [],
   "source": [
    "y_pred_val = lr_model.predict(X_test)\n",
    "y_prob_pred_val = lr_model.predict_proba(X_test)[:,1]"
   ]
  },
  {
   "cell_type": "code",
   "execution_count": 115,
   "id": "b4f90b3d",
   "metadata": {},
   "outputs": [
    {
     "data": {
      "text/plain": [
       "0.8788338272796196"
      ]
     },
     "execution_count": 115,
     "metadata": {},
     "output_type": "execute_result"
    }
   ],
   "source": [
    "lr_model.score(X_train, y_train)\n",
    "#f1_score(y_pred_val, y_val)"
   ]
  },
  {
   "cell_type": "code",
   "execution_count": 116,
   "id": "6bce58ea",
   "metadata": {
    "scrolled": true
   },
   "outputs": [
    {
     "data": {
      "text/plain": [
       "array([[2542,  152],\n",
       "       [ 316,  618]])"
      ]
     },
     "execution_count": 116,
     "metadata": {},
     "output_type": "execute_result"
    }
   ],
   "source": [
    "cm = confusion_matrix(y_test, y_pred_val)\n",
    "cm"
   ]
  },
  {
   "cell_type": "code",
   "execution_count": 117,
   "id": "a6943419",
   "metadata": {},
   "outputs": [
    {
     "data": {
      "text/plain": [
       "0.8026242788717571"
      ]
     },
     "execution_count": 117,
     "metadata": {},
     "output_type": "execute_result"
    }
   ],
   "source": [
    "lr_auc = roc_auc_score(y_test, y_pred_val)\n",
    "lr_auc"
   ]
  },
  {
   "cell_type": "code",
   "execution_count": 118,
   "id": "76e9b4c8",
   "metadata": {},
   "outputs": [
    {
     "data": {
      "image/png": "[encoded data removed]",
      "text/plain": [
       "<Figure size 432x288 with 1 Axes>"
      ]
     },
     "metadata": {
      "needs_background": "light"
     },
     "output_type": "display_data"
    }
   ],
   "source": [
    "# calculate roc curves\n",
    "fpr, tpr, thresholds = roc_curve(y_test, y_prob_pred_val)\n",
    "# plot the roc curve for the model\n",
    "plt.plot([0,1], [0,1], linestyle='--', label='No Skill')\n",
    "plt.plot(fpr, tpr, marker='.', label='Logistic')\n",
    "# axis labels\n",
    "plt.xlabel('False Positive Rate')\n",
    "plt.ylabel('True Positive Rate')\n",
    "plt.legend()\n",
    "# show the plot\n",
    "plt.show()"
   ]
  }
 ],
 "metadata": {
  "kernelspec": {
   "display_name": "Python 3",
   "language": "python",
   "name": "python3"
  },
  "language_info": {
   "codemirror_mode": {
    "name": "ipython",
    "version": 3
   },
   "file_extension": ".py",
   "mimetype": "text/x-python",
   "name": "python",
   "nbconvert_exporter": "python",
   "pygments_lexer": "ipython3",
   "version": "3.8.8"
  }
 },
 "nbformat": 4,
 "nbformat_minor": 5
}
