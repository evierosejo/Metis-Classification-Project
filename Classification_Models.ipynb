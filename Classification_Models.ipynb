{
 "cells": [
  {
   "cell_type": "code",
   "execution_count": 96,
   "id": "e1aeb8dc",
   "metadata": {},
   "outputs": [],
   "source": [
    "import numpy as np\n",
    "import pandas as pd\n",
    "from sklearn.model_selection import train_test_split\n",
    "from sklearn.naive_bayes import BernoulliNB\n",
    "from sklearn.dummy import DummyClassifier\n",
    "from sklearn.tree import DecisionTreeClassifier\n",
    "from sklearn.metrics import precision_score, recall_score, roc_auc_score, roc_curve\n",
    "from sklearn.ensemble import RandomForestClassifier\n",
    "import shap\n",
    "\n",
    "import matplotlib.pyplot as plt\n",
    "import seaborn as sns"
   ]
  },
  {
   "cell_type": "code",
   "execution_count": 15,
   "id": "b2a6aefd",
   "metadata": {},
   "outputs": [],
   "source": [
    "c_df = pd.read_csv('/Users/evelynjohnson/Desktop/METIS/Classification/project/classification_df.csv', index_col=0)"
   ]
  },
  {
   "cell_type": "code",
   "execution_count": 12,
   "id": "419352a4",
   "metadata": {},
   "outputs": [],
   "source": [
    "c_df.head();"
   ]
  },
  {
   "cell_type": "code",
   "execution_count": 16,
   "id": "1a1f8c41",
   "metadata": {
    "scrolled": false
   },
   "outputs": [
    {
     "data": {
      "text/html": [
       "<div>\n",
       "<style scoped>\n",
       "    .dataframe tbody tr th:only-of-type {\n",
       "        vertical-align: middle;\n",
       "    }\n",
       "\n",
       "    .dataframe tbody tr th {\n",
       "        vertical-align: top;\n",
       "    }\n",
       "\n",
       "    .dataframe thead th {\n",
       "        text-align: right;\n",
       "    }\n",
       "</style>\n",
       "<table border=\"1\" class=\"dataframe\">\n",
       "  <thead>\n",
       "    <tr style=\"text-align: right;\">\n",
       "      <th></th>\n",
       "      <th>Largest Property Use Type - Gross Floor Area (ft²)</th>\n",
       "      <th>2nd Largest Property Use - Gross Floor Area (ft²)</th>\n",
       "      <th>3rd Largest Property Use Type - Gross Floor Area (ft²)</th>\n",
       "      <th>Year Built</th>\n",
       "      <th>Occupancy</th>\n",
       "      <th>Metered Areas (Energy)</th>\n",
       "      <th>Metered Areas (Water)</th>\n",
       "      <th>Weather Normalized Site EUI (kBtu/ft²)</th>\n",
       "      <th>Weather Normalized Site Energy Use (kBtu)</th>\n",
       "      <th>Weather Normalized Site Electricity Intensity (kWh/ft²)</th>\n",
       "      <th>...</th>\n",
       "      <th>Parking - Partially Enclosed Parking Garage Size (ft²)</th>\n",
       "      <th>Property GFA - Calculated (Buildings and Parking) (ft²)</th>\n",
       "      <th>Property GFA - Calculated (Buildings) (ft²)</th>\n",
       "      <th>Property GFA - Calculated (Parking) (ft²)</th>\n",
       "      <th>Water Use (All Water Sources) (kgal)</th>\n",
       "      <th>Indoor Water Use (All Water Sources) (kgal)</th>\n",
       "      <th>Municipally Supplied Potable Water - Mixed Indoor/Outdoor Use (kgal)</th>\n",
       "      <th>Municipally Supplied Potable Water - Total Use (All Meter Types) (kgal)</th>\n",
       "      <th>Municipally Supplied Potable Water - Indoor Use (kgal)</th>\n",
       "      <th>na_sum</th>\n",
       "    </tr>\n",
       "  </thead>\n",
       "  <tbody>\n",
       "    <tr>\n",
       "      <th>48</th>\n",
       "      <td>375698.0</td>\n",
       "      <td>369742.0</td>\n",
       "      <td>2063.0</td>\n",
       "      <td>1988</td>\n",
       "      <td>95</td>\n",
       "      <td>1.0</td>\n",
       "      <td>1.0</td>\n",
       "      <td>46.7</td>\n",
       "      <td>34986847.2</td>\n",
       "      <td>11.3</td>\n",
       "      <td>...</td>\n",
       "      <td>0.0</td>\n",
       "      <td>749338.0</td>\n",
       "      <td>749338.0</td>\n",
       "      <td>0.0</td>\n",
       "      <td>18233.10</td>\n",
       "      <td>3828.1</td>\n",
       "      <td>18233.1</td>\n",
       "      <td>18233.1</td>\n",
       "      <td>3827.95</td>\n",
       "      <td>16</td>\n",
       "    </tr>\n",
       "    <tr>\n",
       "      <th>70</th>\n",
       "      <td>814289.0</td>\n",
       "      <td>39590.0</td>\n",
       "      <td>37681.0</td>\n",
       "      <td>2000</td>\n",
       "      <td>100</td>\n",
       "      <td>1.0</td>\n",
       "      <td>1.0</td>\n",
       "      <td>83.4</td>\n",
       "      <td>74041284.0</td>\n",
       "      <td>6.7</td>\n",
       "      <td>...</td>\n",
       "      <td>0.0</td>\n",
       "      <td>927469.0</td>\n",
       "      <td>887879.0</td>\n",
       "      <td>39590.0</td>\n",
       "      <td>3822.15</td>\n",
       "      <td>3828.1</td>\n",
       "      <td>0.0</td>\n",
       "      <td>3822.5</td>\n",
       "      <td>3827.95</td>\n",
       "      <td>13</td>\n",
       "    </tr>\n",
       "    <tr>\n",
       "      <th>1095</th>\n",
       "      <td>401516.0</td>\n",
       "      <td>22500.0</td>\n",
       "      <td>20335.0</td>\n",
       "      <td>2008</td>\n",
       "      <td>100</td>\n",
       "      <td>1.0</td>\n",
       "      <td>1.0</td>\n",
       "      <td>105.7</td>\n",
       "      <td>48386656.7</td>\n",
       "      <td>9.0</td>\n",
       "      <td>...</td>\n",
       "      <td>0.0</td>\n",
       "      <td>472487.0</td>\n",
       "      <td>457771.0</td>\n",
       "      <td>14716.0</td>\n",
       "      <td>13379.80</td>\n",
       "      <td>13379.8</td>\n",
       "      <td>0.0</td>\n",
       "      <td>13379.8</td>\n",
       "      <td>13379.80</td>\n",
       "      <td>9</td>\n",
       "    </tr>\n",
       "    <tr>\n",
       "      <th>1097</th>\n",
       "      <td>362939.0</td>\n",
       "      <td>9800.0</td>\n",
       "      <td>1400.0</td>\n",
       "      <td>2003</td>\n",
       "      <td>55</td>\n",
       "      <td>1.0</td>\n",
       "      <td>1.0</td>\n",
       "      <td>92.4</td>\n",
       "      <td>33660883.6</td>\n",
       "      <td>7.5</td>\n",
       "      <td>...</td>\n",
       "      <td>0.0</td>\n",
       "      <td>374139.0</td>\n",
       "      <td>364339.0</td>\n",
       "      <td>9800.0</td>\n",
       "      <td>10194.50</td>\n",
       "      <td>10194.5</td>\n",
       "      <td>0.0</td>\n",
       "      <td>10194.5</td>\n",
       "      <td>10194.50</td>\n",
       "      <td>7</td>\n",
       "    </tr>\n",
       "    <tr>\n",
       "      <th>1098</th>\n",
       "      <td>269610.0</td>\n",
       "      <td>14901.0</td>\n",
       "      <td>14400.0</td>\n",
       "      <td>2000</td>\n",
       "      <td>100</td>\n",
       "      <td>1.0</td>\n",
       "      <td>1.0</td>\n",
       "      <td>100.8</td>\n",
       "      <td>28676114.1</td>\n",
       "      <td>11.6</td>\n",
       "      <td>...</td>\n",
       "      <td>0.0</td>\n",
       "      <td>298911.0</td>\n",
       "      <td>284511.0</td>\n",
       "      <td>14400.0</td>\n",
       "      <td>10789.20</td>\n",
       "      <td>10789.2</td>\n",
       "      <td>0.0</td>\n",
       "      <td>10789.2</td>\n",
       "      <td>10789.20</td>\n",
       "      <td>9</td>\n",
       "    </tr>\n",
       "  </tbody>\n",
       "</table>\n",
       "<p>5 rows × 64 columns</p>\n",
       "</div>"
      ],
      "text/plain": [
       "      Largest Property Use Type - Gross Floor Area (ft²)  \\\n",
       "48                                             375698.0    \n",
       "70                                             814289.0    \n",
       "1095                                           401516.0    \n",
       "1097                                           362939.0    \n",
       "1098                                           269610.0    \n",
       "\n",
       "      2nd Largest Property Use - Gross Floor Area (ft²)  \\\n",
       "48                                             369742.0   \n",
       "70                                              39590.0   \n",
       "1095                                            22500.0   \n",
       "1097                                             9800.0   \n",
       "1098                                            14901.0   \n",
       "\n",
       "      3rd Largest Property Use Type - Gross Floor Area (ft²)  Year Built  \\\n",
       "48                                               2063.0             1988   \n",
       "70                                              37681.0             2000   \n",
       "1095                                            20335.0             2008   \n",
       "1097                                             1400.0             2003   \n",
       "1098                                            14400.0             2000   \n",
       "\n",
       "      Occupancy  Metered Areas (Energy)  Metered Areas (Water)  \\\n",
       "48           95                     1.0                    1.0   \n",
       "70          100                     1.0                    1.0   \n",
       "1095        100                     1.0                    1.0   \n",
       "1097         55                     1.0                    1.0   \n",
       "1098        100                     1.0                    1.0   \n",
       "\n",
       "      Weather Normalized Site EUI (kBtu/ft²)  \\\n",
       "48                                      46.7   \n",
       "70                                      83.4   \n",
       "1095                                   105.7   \n",
       "1097                                    92.4   \n",
       "1098                                   100.8   \n",
       "\n",
       "      Weather Normalized Site Energy Use (kBtu)  \\\n",
       "48                                   34986847.2   \n",
       "70                                   74041284.0   \n",
       "1095                                 48386656.7   \n",
       "1097                                 33660883.6   \n",
       "1098                                 28676114.1   \n",
       "\n",
       "      Weather Normalized Site Electricity Intensity (kWh/ft²)  ...  \\\n",
       "48                                                 11.3        ...   \n",
       "70                                                  6.7        ...   \n",
       "1095                                                9.0        ...   \n",
       "1097                                                7.5        ...   \n",
       "1098                                               11.6        ...   \n",
       "\n",
       "      Parking - Partially Enclosed Parking Garage Size (ft²)  \\\n",
       "48                                                  0.0        \n",
       "70                                                  0.0        \n",
       "1095                                                0.0        \n",
       "1097                                                0.0        \n",
       "1098                                                0.0        \n",
       "\n",
       "      Property GFA - Calculated (Buildings and Parking) (ft²)  \\\n",
       "48                                             749338.0         \n",
       "70                                             927469.0         \n",
       "1095                                           472487.0         \n",
       "1097                                           374139.0         \n",
       "1098                                           298911.0         \n",
       "\n",
       "      Property GFA - Calculated (Buildings) (ft²)  \\\n",
       "48                                       749338.0   \n",
       "70                                       887879.0   \n",
       "1095                                     457771.0   \n",
       "1097                                     364339.0   \n",
       "1098                                     284511.0   \n",
       "\n",
       "      Property GFA - Calculated (Parking) (ft²)  \\\n",
       "48                                          0.0   \n",
       "70                                      39590.0   \n",
       "1095                                    14716.0   \n",
       "1097                                     9800.0   \n",
       "1098                                    14400.0   \n",
       "\n",
       "      Water Use (All Water Sources) (kgal)  \\\n",
       "48                                18233.10   \n",
       "70                                 3822.15   \n",
       "1095                              13379.80   \n",
       "1097                              10194.50   \n",
       "1098                              10789.20   \n",
       "\n",
       "      Indoor Water Use (All Water Sources) (kgal)  \\\n",
       "48                                         3828.1   \n",
       "70                                         3828.1   \n",
       "1095                                      13379.8   \n",
       "1097                                      10194.5   \n",
       "1098                                      10789.2   \n",
       "\n",
       "      Municipally Supplied Potable Water - Mixed Indoor/Outdoor Use (kgal)  \\\n",
       "48                                              18233.1                      \n",
       "70                                                  0.0                      \n",
       "1095                                                0.0                      \n",
       "1097                                                0.0                      \n",
       "1098                                                0.0                      \n",
       "\n",
       "      Municipally Supplied Potable Water - Total Use (All Meter Types) (kgal)  \\\n",
       "48                                              18233.1                         \n",
       "70                                               3822.5                         \n",
       "1095                                            13379.8                         \n",
       "1097                                            10194.5                         \n",
       "1098                                            10789.2                         \n",
       "\n",
       "      Municipally Supplied Potable Water - Indoor Use (kgal)  na_sum  \n",
       "48                                              3827.95           16  \n",
       "70                                              3827.95           13  \n",
       "1095                                           13379.80            9  \n",
       "1097                                           10194.50            7  \n",
       "1098                                           10789.20            9  \n",
       "\n",
       "[5 rows x 64 columns]"
      ]
     },
     "execution_count": 16,
     "metadata": {},
     "output_type": "execute_result"
    }
   ],
   "source": [
    "y = c_df['ENERGY STAR Certification - Eligibility']\n",
    "X = c_df.drop('ENERGY STAR Certification - Eligibility', axis=1).copy()\n",
    "X.head()"
   ]
  },
  {
   "cell_type": "code",
   "execution_count": 28,
   "id": "d350d7f9",
   "metadata": {},
   "outputs": [],
   "source": [
    "X_train, X_test, y_train, y_test = train_test_split(X, y, test_size = .2, random_state=42)"
   ]
  },
  {
   "cell_type": "code",
   "execution_count": 56,
   "id": "3d0dd3ce",
   "metadata": {
    "scrolled": true
   },
   "outputs": [
    {
     "data": {
      "text/plain": [
       "pandas.core.series.Series"
      ]
     },
     "execution_count": 56,
     "metadata": {},
     "output_type": "execute_result"
    }
   ],
   "source": [
    "type(y_train)"
   ]
  },
  {
   "cell_type": "code",
   "execution_count": 62,
   "id": "de89fe5b",
   "metadata": {},
   "outputs": [],
   "source": [
    "y_array_tr = y_train.to_numpy()\n",
    "y_array_te = y_test.to_numpy()"
   ]
  },
  {
   "cell_type": "code",
   "execution_count": 79,
   "id": "6e14ad52",
   "metadata": {},
   "outputs": [],
   "source": [
    "def evaluate(model_name, train_pred, train_prob, test_pred, test_prob):\n",
    "    \n",
    "    train_eval = {}\n",
    "    train_eval['Recall'] = recall_score(y_array_tr, train_pred)\n",
    "    train_eval['Precision'] = precision_score(y_array_tr, train_pred)\n",
    "    train_eval['Auc Roc'] = roc_auc_score(y_array_tr, train_prob)\n",
    "    \n",
    "    test_eval = {}\n",
    "    test_eval['Recall'] = recall_score(y_array_te, test_pred)\n",
    "    test_eval['Precision'] = precision_score(y_array_te, test_pred)\n",
    "    test_eval['Auc Roc'] = roc_auc_score(y_array_te, test_prob)\n",
    "    \n",
    "    for metric in ['Recall', 'Precision', 'Auc Roc']:\n",
    "        print(f'{metric} Train: {train_eval[metric]}, Test: {test_eval[metric]}')\n",
    "        \n",
    "    fpr, tpr, thresholds = roc_curve(y_test, test_prob)\n",
    "    plt.plot([0,1], [0,1], linestyle='--', label='Baseline')\n",
    "    plt.plot(fpr, tpr, marker='.', label= model_name)\n",
    "    plt.title('ROC Curves')\n",
    "    plt.xlabel('False Positive Rate')\n",
    "    plt.ylabel('True Positive Rate')\n",
    "    plt.legend()\n",
    "    plt.show()"
   ]
  },
  {
   "cell_type": "markdown",
   "id": "7ec7e847",
   "metadata": {},
   "source": [
    "# Decision Tree Model"
   ]
  },
  {
   "cell_type": "code",
   "execution_count": 25,
   "id": "8f9dc0f8",
   "metadata": {
    "scrolled": true
   },
   "outputs": [
    {
     "name": "stdout",
     "output_type": "stream",
     "text": [
      "Decision tree has 1949 nodes with maximum depth 28.\n"
     ]
    }
   ],
   "source": [
    "tree = DecisionTreeClassifier()\n",
    "tree.fit(X_train, y_train)\n",
    "print(f'Decision tree has {tree.tree_.node_count} nodes with maximum depth {tree.tree_.max_depth}.')"
   ]
  },
  {
   "cell_type": "code",
   "execution_count": 73,
   "id": "98d0fa04",
   "metadata": {},
   "outputs": [],
   "source": [
    "dt_prob_tr = tree.predict_proba(X_train)[:,1]\n",
    "dt_prob_te = tree.predict_proba(X_test)[:,1]\n",
    "\n",
    "dt_pred_tr = tree.predict(X_train)\n",
    "dt_pred_te = tree.predict(X_test)"
   ]
  },
  {
   "cell_type": "code",
   "execution_count": 71,
   "id": "54e7baf7",
   "metadata": {},
   "outputs": [
    {
     "data": {
      "text/plain": [
       "array([[1., 0.],\n",
       "       [1., 0.],\n",
       "       [0., 1.],\n",
       "       ...,\n",
       "       [1., 0.],\n",
       "       [1., 0.],\n",
       "       [1., 0.]])"
      ]
     },
     "execution_count": 71,
     "metadata": {},
     "output_type": "execute_result"
    }
   ],
   "source": [
    "np.reshape(dt_prob_tr"
   ]
  },
  {
   "cell_type": "code",
   "execution_count": 80,
   "id": "98ecf67e",
   "metadata": {},
   "outputs": [
    {
     "name": "stdout",
     "output_type": "stream",
     "text": [
      "Recall Train: 0.9025585193249864, Test: 0.7387580299785867\n",
      "Precision Train: 0.9077470572132493, Test: 0.7427341227125942\n",
      "Auc Roc Train: 0.9357278060399736, Test: 0.8250211827695457\n"
     ]
    },
    {
     "data": {
      "image/png": "[encoded data removed]",
      "text/plain": [
       "<Figure size 432x288 with 1 Axes>"
      ]
     },
     "metadata": {
      "needs_background": "light"
     },
     "output_type": "display_data"
    }
   ],
   "source": [
    "evaluate('Decision Tree Model', dt_pred_tr, dt_prob_tr, dt_pred_te, dt_prob_te)"
   ]
  },
  {
   "cell_type": "markdown",
   "id": "8340c7ed",
   "metadata": {},
   "source": [
    "# Random Forest"
   ]
  },
  {
   "cell_type": "code",
   "execution_count": 86,
   "id": "08fb380c",
   "metadata": {},
   "outputs": [
    {
     "name": "stderr",
     "output_type": "stream",
     "text": [
      "[Parallel(n_jobs=-1)]: Using backend ThreadingBackend with 4 concurrent workers.\n",
      "[Parallel(n_jobs=-1)]: Done  42 tasks      | elapsed:    1.1s\n",
      "[Parallel(n_jobs=-1)]: Done 100 out of 100 | elapsed:    2.6s finished\n"
     ]
    },
    {
     "data": {
      "text/plain": [
       "RandomForestClassifier(max_features='sqrt', n_jobs=-1, random_state=42,\n",
       "                       verbose=1)"
      ]
     },
     "execution_count": 86,
     "metadata": {},
     "output_type": "execute_result"
    }
   ],
   "source": [
    "rf_model = RandomForestClassifier(n_estimators=100, \n",
    "                               random_state=42, \n",
    "                               max_features = 'sqrt',\n",
    "                               n_jobs=-1, verbose = 1)\n",
    "\n",
    "# Fit on training data\n",
    "rf_model.fit(X_train, y_train)"
   ]
  },
  {
   "cell_type": "code",
   "execution_count": 88,
   "id": "178e94d7",
   "metadata": {},
   "outputs": [
    {
     "name": "stdout",
     "output_type": "stream",
     "text": [
      "Average number of nodes 1987\n",
      "Average maximum depth 25\n"
     ]
    }
   ],
   "source": [
    "n_nodes = []\n",
    "max_depths = []\n",
    "\n",
    "for tree in rf_model.estimators_:\n",
    "    n_nodes.append(tree.tree_.node_count)\n",
    "    max_depths.append(tree.tree_.max_depth)\n",
    "    \n",
    "print(f'Average number of nodes {int(np.mean(n_nodes))}')\n",
    "print(f'Average maximum depth {int(np.mean(max_depths))}')"
   ]
  },
  {
   "cell_type": "code",
   "execution_count": 89,
   "id": "178c8bc1",
   "metadata": {},
   "outputs": [
    {
     "name": "stderr",
     "output_type": "stream",
     "text": [
      "[Parallel(n_jobs=4)]: Using backend ThreadingBackend with 4 concurrent workers.\n",
      "[Parallel(n_jobs=4)]: Done  42 tasks      | elapsed:    0.1s\n",
      "[Parallel(n_jobs=4)]: Done 100 out of 100 | elapsed:    0.1s finished\n",
      "[Parallel(n_jobs=4)]: Using backend ThreadingBackend with 4 concurrent workers.\n",
      "[Parallel(n_jobs=4)]: Done  42 tasks      | elapsed:    0.0s\n",
      "[Parallel(n_jobs=4)]: Done 100 out of 100 | elapsed:    0.1s finished\n",
      "[Parallel(n_jobs=4)]: Using backend ThreadingBackend with 4 concurrent workers.\n",
      "[Parallel(n_jobs=4)]: Done  42 tasks      | elapsed:    0.0s\n",
      "[Parallel(n_jobs=4)]: Done 100 out of 100 | elapsed:    0.0s finished\n",
      "[Parallel(n_jobs=4)]: Using backend ThreadingBackend with 4 concurrent workers.\n",
      "[Parallel(n_jobs=4)]: Done  42 tasks      | elapsed:    0.0s\n",
      "[Parallel(n_jobs=4)]: Done 100 out of 100 | elapsed:    0.0s finished\n"
     ]
    }
   ],
   "source": [
    "rf_pred_tr = rf_model.predict(X_train)\n",
    "rf_prob_tr = rf_model.predict_proba(X_train)[:, 1]\n",
    "\n",
    "rf_pred_te = rf_model.predict(X_test)\n",
    "rf_prob_te = rf_model.predict_proba(X_test)[:, 1]"
   ]
  },
  {
   "cell_type": "code",
   "execution_count": 90,
   "id": "91961c74",
   "metadata": {},
   "outputs": [
    {
     "name": "stdout",
     "output_type": "stream",
     "text": [
      "Recall Train: 1.0, Test: 0.8179871520342612\n",
      "Precision Train: 1.0, Test: 0.8652321630804077\n",
      "Auc Roc Train: 1.0, Test: 0.9715185144559486\n"
     ]
    },
    {
     "data": {
      "image/png": "[encoded data removed]",
      "text/plain": [
       "<Figure size 432x288 with 1 Axes>"
      ]
     },
     "metadata": {
      "needs_background": "light"
     },
     "output_type": "display_data"
    }
   ],
   "source": [
    "evaluate('Random Forest', rf_pred_tr, rf_prob_tr, rf_pred_te, rf_prob_te)"
   ]
  },
  {
   "cell_type": "code",
   "execution_count": 91,
   "id": "0aca555f",
   "metadata": {},
   "outputs": [
    {
     "data": {
      "text/plain": [
       "array([[2575,  119],\n",
       "       [ 170,  764]])"
      ]
     },
     "execution_count": 91,
     "metadata": {},
     "output_type": "execute_result"
    }
   ],
   "source": [
    "cm = confusion_matrix(y_test, rf_pred_te)\n",
    "cm"
   ]
  },
  {
   "cell_type": "code",
   "execution_count": 92,
   "id": "c8140732",
   "metadata": {
    "scrolled": true
   },
   "outputs": [
    {
     "data": {
      "text/html": [
       "<div>\n",
       "<style scoped>\n",
       "    .dataframe tbody tr th:only-of-type {\n",
       "        vertical-align: middle;\n",
       "    }\n",
       "\n",
       "    .dataframe tbody tr th {\n",
       "        vertical-align: top;\n",
       "    }\n",
       "\n",
       "    .dataframe thead th {\n",
       "        text-align: right;\n",
       "    }\n",
       "</style>\n",
       "<table border=\"1\" class=\"dataframe\">\n",
       "  <thead>\n",
       "    <tr style=\"text-align: right;\">\n",
       "      <th></th>\n",
       "      <th>feature</th>\n",
       "      <th>importance</th>\n",
       "    </tr>\n",
       "  </thead>\n",
       "  <tbody>\n",
       "    <tr>\n",
       "      <th>11</th>\n",
       "      <td>Weather Normalized Source EUI (kBtu/ft²)</td>\n",
       "      <td>0.159654</td>\n",
       "    </tr>\n",
       "    <tr>\n",
       "      <th>25</th>\n",
       "      <td>Total GHG Emissions Intensity (kgCO2e/ft²)</td>\n",
       "      <td>0.087613</td>\n",
       "    </tr>\n",
       "    <tr>\n",
       "      <th>7</th>\n",
       "      <td>Weather Normalized Site EUI (kBtu/ft²)</td>\n",
       "      <td>0.065239</td>\n",
       "    </tr>\n",
       "    <tr>\n",
       "      <th>40</th>\n",
       "      <td>Multifamily Housing - Number of Bedrooms Densi...</td>\n",
       "      <td>0.062193</td>\n",
       "    </tr>\n",
       "    <tr>\n",
       "      <th>26</th>\n",
       "      <td>Direct GHG Emissions Intensity (kgCO2e/ft²)</td>\n",
       "      <td>0.045646</td>\n",
       "    </tr>\n",
       "    <tr>\n",
       "      <th>39</th>\n",
       "      <td>Multifamily Housing - Number of Bedrooms</td>\n",
       "      <td>0.038173</td>\n",
       "    </tr>\n",
       "    <tr>\n",
       "      <th>44</th>\n",
       "      <td>Multifamily Housing - Total Number of Resident...</td>\n",
       "      <td>0.031279</td>\n",
       "    </tr>\n",
       "    <tr>\n",
       "      <th>9</th>\n",
       "      <td>Weather Normalized Site Electricity Intensity ...</td>\n",
       "      <td>0.029131</td>\n",
       "    </tr>\n",
       "    <tr>\n",
       "      <th>48</th>\n",
       "      <td>Multifamily Housing - Number of Residential Li...</td>\n",
       "      <td>0.028396</td>\n",
       "    </tr>\n",
       "    <tr>\n",
       "      <th>29</th>\n",
       "      <td>Indirect GHG Emissions Intensity (kgCO2e/ft²)</td>\n",
       "      <td>0.027316</td>\n",
       "    </tr>\n",
       "  </tbody>\n",
       "</table>\n",
       "</div>"
      ],
      "text/plain": [
       "                                              feature  importance\n",
       "11           Weather Normalized Source EUI (kBtu/ft²)    0.159654\n",
       "25         Total GHG Emissions Intensity (kgCO2e/ft²)    0.087613\n",
       "7              Weather Normalized Site EUI (kBtu/ft²)    0.065239\n",
       "40  Multifamily Housing - Number of Bedrooms Densi...    0.062193\n",
       "26        Direct GHG Emissions Intensity (kgCO2e/ft²)    0.045646\n",
       "39           Multifamily Housing - Number of Bedrooms    0.038173\n",
       "44  Multifamily Housing - Total Number of Resident...    0.031279\n",
       "9   Weather Normalized Site Electricity Intensity ...    0.029131\n",
       "48  Multifamily Housing - Number of Residential Li...    0.028396\n",
       "29      Indirect GHG Emissions Intensity (kgCO2e/ft²)    0.027316"
      ]
     },
     "execution_count": 92,
     "metadata": {},
     "output_type": "execute_result"
    }
   ],
   "source": [
    "rf_feature_importance = pd.DataFrame({'feature': X.columns,\n",
    "                   'importance': rf_model.feature_importances_}).\\\n",
    "                    sort_values('importance', ascending = False)\n",
    "rf_feature_importance.head(10)"
   ]
  },
  {
   "cell_type": "code",
   "execution_count": null,
   "id": "4deade0a",
   "metadata": {},
   "outputs": [],
   "source": [
    "sns.set_color_codes(\"pastel\")\n",
    "sns.barplot(x=\"importance\", y=\"feature\", data=re_feature_importance,\n",
    "            label=\"Feature Importance\", color=\"b\")\n",
    "sns.despine(left=True, bottom=True)"
   ]
  },
  {
   "cell_type": "code",
   "execution_count": null,
   "id": "d92b7ba8",
   "metadata": {
    "scrolled": true
   },
   "outputs": [],
   "source": [
    "explainer = shap.TreeExplainer(rf_model)\n",
    "shap_values = explainer.shap_values(X)"
   ]
  },
  {
   "cell_type": "markdown",
   "id": "8848624a",
   "metadata": {},
   "source": [
    "# Bernoulli Naive Bayes"
   ]
  },
  {
   "cell_type": "code",
   "execution_count": 19,
   "id": "b3892c52",
   "metadata": {},
   "outputs": [],
   "source": [
    "X_train, X_test, y_train, y_test = train_test_split(X, y, test_size=0.3, random_state=42)"
   ]
  },
  {
   "cell_type": "code",
   "execution_count": 20,
   "id": "ab9ef9d3",
   "metadata": {},
   "outputs": [
    {
     "data": {
      "text/plain": [
       "0.6201764057331863"
      ]
     },
     "execution_count": 20,
     "metadata": {},
     "output_type": "execute_result"
    }
   ],
   "source": [
    "dc = DummyClassifier(strategy='stratified')  \n",
    "dc.fit(X_train, y_train)\n",
    "dc.score(X_test, y_test)"
   ]
  },
  {
   "cell_type": "code",
   "execution_count": 21,
   "id": "aee7ba6e",
   "metadata": {},
   "outputs": [
    {
     "data": {
      "text/plain": [
       "0.7368614479970599"
      ]
     },
     "execution_count": 21,
     "metadata": {},
     "output_type": "execute_result"
    }
   ],
   "source": [
    "nb = BernoulliNB()\n",
    "nb.fit(X_train,y_train)\n",
    "nb.score(X_test,y_test)"
   ]
  },
  {
   "cell_type": "code",
   "execution_count": 22,
   "id": "790b04c7",
   "metadata": {},
   "outputs": [
    {
     "data": {
      "text/plain": [
       "array([[3928,  104],\n",
       "       [1328,   82]])"
      ]
     },
     "execution_count": 22,
     "metadata": {},
     "output_type": "execute_result"
    }
   ],
   "source": [
    "from sklearn.metrics import confusion_matrix\n",
    "confusion_matrix(y_test, nb.predict(X_test))"
   ]
  },
  {
   "cell_type": "code",
   "execution_count": null,
   "id": "e1c5f698",
   "metadata": {},
   "outputs": [],
   "source": []
  }
 ],
 "metadata": {
  "kernelspec": {
   "display_name": "Python 3",
   "language": "python",
   "name": "python3"
  },
  "language_info": {
   "codemirror_mode": {
    "name": "ipython",
    "version": 3
   },
   "file_extension": ".py",
   "mimetype": "text/x-python",
   "name": "python",
   "nbconvert_exporter": "python",
   "pygments_lexer": "ipython3",
   "version": "3.8.8"
  }
 },
 "nbformat": 4,
 "nbformat_minor": 5
}
